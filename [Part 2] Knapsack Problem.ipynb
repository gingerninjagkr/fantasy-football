{
 "cells": [
  {
   "cell_type": "code",
   "execution_count": 1,
   "metadata": {
    "collapsed": true
   },
   "outputs": [],
   "source": [
    "import pandas as pd\n",
    "import numpy as np\n",
    "import matplotlib.pyplot as plt\n",
    "import seaborn as sns\n",
    "from scipy.optimize import linprog\n",
    "from scipy.stats import linregress\n",
    "from pulp import *\n",
    "\n",
    "sns.set(style=\"white\")\n",
    "%matplotlib inline"
   ]
  },
  {
   "cell_type": "code",
   "execution_count": 2,
   "metadata": {
    "collapsed": true
   },
   "outputs": [],
   "source": [
    "data = (pd.read_csv(\"data/clean-data.csv\")\n",
    "        .sort_values(by=['Points', 'Cost'])\n",
    "        .reset_index(drop=True))"
   ]
  },
  {
   "cell_type": "markdown",
   "metadata": {},
   "source": [
    "# Dynamic Programming"
   ]
  },
  {
   "cell_type": "code",
   "execution_count": 3,
   "metadata": {
    "collapsed": true
   },
   "outputs": [],
   "source": [
    "def knapSack(W, wt, val, n):\n",
    "    K = [[0 for x in range(W+1)] for x in range(n+1)] \n",
    "    for i in range(n+1):\n",
    "        for w in range(W+1):\n",
    "            if i==0 or w==0:\n",
    "                K[i][w] = 0\n",
    "            elif wt[i-1] <= w:\n",
    "                K[i][w] = max(val[i-1] + K[i-1][w-wt[i-1]], K[i-1][w])\n",
    "            else:\n",
    "                K[i][w] = K[i-1][w]\n",
    "    return K\n",
    "\n",
    "def knapSackIndex(W, wt, val, n, K):\n",
    "    res = K[-1][-1]\n",
    "    ix = []\n",
    "    w = W\n",
    "    ix = []\n",
    "    for i in range(n, 0, -1):\n",
    "        if res <= 0:\n",
    "            break\n",
    "        if res == K[i - 1][w]:\n",
    "            continue\n",
    "        else:\n",
    "            ix.append(i-1)\n",
    "            res = res - val[i - 1]\n",
    "            w = w -  wt[i - 1]\n",
    "    return ix"
   ]
  },
  {
   "cell_type": "code",
   "execution_count": 4,
   "metadata": {
    "collapsed": true
   },
   "outputs": [],
   "source": [
    "# Example\n",
    "val = [60, 100, 120, 120]\n",
    "wt = [10, 20, 30, 20]\n",
    "W = 50\n",
    "n = len(val)\n",
    "K = knapSack(W, wt, val, n)\n",
    "ix = knapSackIndex(W, wt, val, n ,K)"
   ]
  },
  {
   "cell_type": "code",
   "execution_count": 5,
   "metadata": {},
   "outputs": [
    {
     "name": "stdout",
     "output_type": "stream",
     "text": [
      "Max value:280, with items:[3, 1, 0]\n"
     ]
    }
   ],
   "source": [
    "print(\"Max value:{}, with items:{}\".format(K[-1][-1], str(ix)))"
   ]
  },
  {
   "cell_type": "code",
   "execution_count": 6,
   "metadata": {
    "collapsed": true
   },
   "outputs": [],
   "source": [
    "points = data['Points'].tolist()\n",
    "cost   = (data['Cost'] * 10).astype(int).tolist()\n",
    "C      = 100 * 10\n",
    "n      = len(points)\n",
    "K = knapSack(C, cost, points, n)\n",
    "ix = knapSackIndex(C, cost, points, n, K)"
   ]
  },
  {
   "cell_type": "code",
   "execution_count": 7,
   "metadata": {},
   "outputs": [
    {
     "name": "stdout",
     "output_type": "stream",
     "text": [
      "Total points:2842.0, cost:£99.9, and with players:11\n"
     ]
    }
   ],
   "source": [
    "ix_array = np.array(ix)\n",
    "ix_points = data[\"Points\"][ix_array]\n",
    "total_points = (ix_points.sum() + ix_points.max())\n",
    "total_cost = data[\"Cost\"][ix_array].sum()\n",
    "print(\"Total points:{}, cost:£{}, and with players:{}\".format(total_points, total_cost, len(ix)))"
   ]
  },
  {
   "cell_type": "code",
   "execution_count": 8,
   "metadata": {},
   "outputs": [
    {
     "data": {
      "text/html": [
       "<div>\n",
       "<style scoped>\n",
       "    .dataframe tbody tr th:only-of-type {\n",
       "        vertical-align: middle;\n",
       "    }\n",
       "\n",
       "    .dataframe tbody tr th {\n",
       "        vertical-align: top;\n",
       "    }\n",
       "\n",
       "    .dataframe thead th {\n",
       "        text-align: right;\n",
       "    }\n",
       "</style>\n",
       "<table border=\"1\" class=\"dataframe\">\n",
       "  <thead>\n",
       "    <tr style=\"text-align: right;\">\n",
       "      <th></th>\n",
       "      <th>Player</th>\n",
       "      <th>Position</th>\n",
       "      <th>Points</th>\n",
       "      <th>Cost</th>\n",
       "    </tr>\n",
       "  </thead>\n",
       "  <tbody>\n",
       "    <tr>\n",
       "      <th>522</th>\n",
       "      <td>SALAH, M</td>\n",
       "      <td>STR</td>\n",
       "      <td>378.0</td>\n",
       "      <td>12.9</td>\n",
       "    </tr>\n",
       "    <tr>\n",
       "      <th>521</th>\n",
       "      <td>DE BRUYNE, K</td>\n",
       "      <td>MID</td>\n",
       "      <td>281.0</td>\n",
       "      <td>12.0</td>\n",
       "    </tr>\n",
       "    <tr>\n",
       "      <th>519</th>\n",
       "      <td>OTAMENDI, N</td>\n",
       "      <td>DEF</td>\n",
       "      <td>244.0</td>\n",
       "      <td>10.2</td>\n",
       "    </tr>\n",
       "    <tr>\n",
       "      <th>518</th>\n",
       "      <td>AZPILICUETA, C</td>\n",
       "      <td>DEF</td>\n",
       "      <td>240.0</td>\n",
       "      <td>10.3</td>\n",
       "    </tr>\n",
       "    <tr>\n",
       "      <th>517</th>\n",
       "      <td>ERIKSEN, C</td>\n",
       "      <td>MID</td>\n",
       "      <td>230.0</td>\n",
       "      <td>11.2</td>\n",
       "    </tr>\n",
       "    <tr>\n",
       "      <th>514</th>\n",
       "      <td>DE GEA, D</td>\n",
       "      <td>GK</td>\n",
       "      <td>218.0</td>\n",
       "      <td>8.0</td>\n",
       "    </tr>\n",
       "    <tr>\n",
       "      <th>507</th>\n",
       "      <td>MORAES, E</td>\n",
       "      <td>GK</td>\n",
       "      <td>188.0</td>\n",
       "      <td>7.9</td>\n",
       "    </tr>\n",
       "    <tr>\n",
       "      <th>502</th>\n",
       "      <td>LLORIS, H</td>\n",
       "      <td>GK</td>\n",
       "      <td>183.0</td>\n",
       "      <td>7.5</td>\n",
       "    </tr>\n",
       "    <tr>\n",
       "      <th>497</th>\n",
       "      <td>POPE, N</td>\n",
       "      <td>GK</td>\n",
       "      <td>175.0</td>\n",
       "      <td>6.9</td>\n",
       "    </tr>\n",
       "    <tr>\n",
       "      <th>493</th>\n",
       "      <td>RYAN, M</td>\n",
       "      <td>GK</td>\n",
       "      <td>172.0</td>\n",
       "      <td>6.5</td>\n",
       "    </tr>\n",
       "    <tr>\n",
       "      <th>480</th>\n",
       "      <td>FABIANSKI, L</td>\n",
       "      <td>GK</td>\n",
       "      <td>155.0</td>\n",
       "      <td>6.5</td>\n",
       "    </tr>\n",
       "  </tbody>\n",
       "</table>\n",
       "</div>"
      ],
      "text/plain": [
       "             Player Position  Points  Cost\n",
       "522        SALAH, M      STR   378.0  12.9\n",
       "521    DE BRUYNE, K      MID   281.0  12.0\n",
       "519     OTAMENDI, N      DEF   244.0  10.2\n",
       "518  AZPILICUETA, C      DEF   240.0  10.3\n",
       "517      ERIKSEN, C      MID   230.0  11.2\n",
       "514       DE GEA, D       GK   218.0   8.0\n",
       "507       MORAES, E       GK   188.0   7.9\n",
       "502       LLORIS, H       GK   183.0   7.5\n",
       "497         POPE, N       GK   175.0   6.9\n",
       "493         RYAN, M       GK   172.0   6.5\n",
       "480    FABIANSKI, L       GK   155.0   6.5"
      ]
     },
     "execution_count": 8,
     "metadata": {},
     "output_type": "execute_result"
    }
   ],
   "source": [
    "data[['Player','Position','Points','Cost']].iloc[ix_array,:]"
   ]
  },
  {
   "cell_type": "code",
   "execution_count": 9,
   "metadata": {
    "scrolled": true
   },
   "outputs": [
    {
     "data": {
      "text/plain": [
       "<seaborn.axisgrid.FacetGrid at 0x112c36e80>"
      ]
     },
     "execution_count": 9,
     "metadata": {},
     "output_type": "execute_result"
    },
    {
     "data": {
      "image/png": "[encoded data removed]",
      "text/plain": [
       "<Figure size 694.475x360 with 1 Axes>"
      ]
     },
     "metadata": {
      "needs_background": "light"
     },
     "output_type": "display_data"
    }
   ],
   "source": [
    "data['Selected'] = 0\n",
    "data.loc[ix_array, 'Selected'] = 1\n",
    "sns.relplot(x=\"Cost\", y=\"Points\", \n",
    "            hue=\"Position\", size='Selected',\n",
    "            size_order=[1,0],\n",
    "            sizes=(40, 400), alpha=.5, \n",
    "            palette=\"muted\", height=5, aspect=1.75,\n",
    "            data=data)"
   ]
  },
  {
   "cell_type": "markdown",
   "metadata": {
    "collapsed": true
   },
   "source": [
    "# Linear Programming"
   ]
  },
  {
   "cell_type": "code",
   "execution_count": 10,
   "metadata": {
    "collapsed": true
   },
   "outputs": [],
   "source": [
    "from scipy.optimize import linprog"
   ]
  },
  {
   "cell_type": "code",
   "execution_count": 11,
   "metadata": {
    "collapsed": true
   },
   "outputs": [],
   "source": [
    "points = data['Points']\n",
    "cost = data['Cost']\n",
    "gk   = data['Position'].apply(lambda x: 1 if x == 'GK' else 0)\n",
    "defe = data['Position'].apply(lambda x: 1 if x == 'DEF' else 0)\n",
    "mid  = data['Position'].apply(lambda x: 1 if x == 'MID' else 0)\n",
    "stri = data['Position'].apply(lambda x: 1 if x == 'STR' else 0)\n",
    "xi   = np.ones(data.shape[0])\n",
    "\n",
    "A_upperbounds = np.array([\n",
    "    cost, defe, mid, stri\n",
    "])\n",
    "\n",
    "b_upperbounds = np.array([\n",
    "    100, 5, 5, 3\n",
    "])\n",
    "\n",
    "A_equality = np.array([\n",
    "    gk, xi\n",
    "])\n",
    "\n",
    "b_equality = np.array([\n",
    "    1, 11\n",
    "])\n",
    "\n",
    "bounds = [(0, 1) for x in range(data.shape[0])]"
   ]
  },
  {
   "cell_type": "code",
   "execution_count": 12,
   "metadata": {
    "collapsed": true
   },
   "outputs": [],
   "source": [
    "solution = linprog(\n",
    "    c=-points,\n",
    "    A_ub=A_upperbounds,\n",
    "    b_ub=b_upperbounds,\n",
    "    A_eq=A_equality,\n",
    "    b_eq=b_equality,\n",
    "    bounds=bounds\n",
    ")"
   ]
  },
  {
   "cell_type": "code",
   "execution_count": 13,
   "metadata": {},
   "outputs": [
    {
     "data": {
      "text/plain": [
       "array([7.54385969e-01, 7.54385969e-01, 3.94789733e-09, 9.89727231e-10,\n",
       "       1.46670621e-10, 8.27323197e-10, 9.20343367e-10, 7.11590332e-10,\n",
       "       1.42721225e-10, 7.83165885e-10, 6.24830522e-10, 1.44803260e-10,\n",
       "       1.44803260e-10, 6.24830522e-10, 5.56377925e-10, 5.56377925e-10,\n",
       "       5.56377925e-10, 1.50200532e-10, 6.72709541e-10, 5.90190561e-10,\n",
       "       5.90190561e-10, 5.00069768e-10, 4.52731704e-10, 5.26646479e-10,\n",
       "       4.52731704e-10, 4.76949251e-10, 4.76949251e-10, 4.12977181e-10,\n",
       "       1.68690792e-10, 4.36031134e-10, 3.52911385e-10, 3.52911385e-10,\n",
       "       1.68293187e-10, 1.68293187e-10, 4.61385366e-10, 3.68906906e-10,\n",
       "       3.30610051e-10, 3.40564898e-10, 1.61173597e-10, 1.61173597e-10,\n",
       "       3.16066780e-10, 2.95671483e-10, 1.55204057e-10, 2.95671483e-10,\n",
       "       1.55204057e-10, 3.39254876e-10, 3.39254876e-10, 3.39254876e-10,\n",
       "       2.80990922e-10, 1.48223372e-10, 2.80990922e-10, 2.67184676e-10,\n",
       "       2.79292125e-10, 2.79292125e-10, 2.67184676e-10, 1.40670433e-10,\n",
       "       1.40670433e-10, 1.40670433e-10, 2.66104493e-10, 2.66104493e-10,\n",
       "       2.66104493e-10, 1.32939640e-10, 1.32939640e-10, 2.77770957e-10,\n",
       "       2.40682763e-10, 2.40682763e-10, 1.25364928e-10, 2.63797693e-10,\n",
       "       2.27706342e-10, 2.27706342e-10, 2.45732271e-10, 2.45732271e-10,\n",
       "       2.45732271e-10, 2.27706342e-10, 2.27706342e-10, 1.11688731e-10,\n",
       "       1.11688731e-10, 2.14941428e-10, 2.37765026e-10, 2.02501006e-10,\n",
       "       2.02501006e-10, 2.27932752e-10, 2.18729029e-10, 2.18729029e-10,\n",
       "       1.01032219e-10, 2.12687766e-10, 1.90527457e-10, 1.90527457e-10,\n",
       "       2.12687766e-10, 1.79167446e-10, 1.79167446e-10, 1.99013755e-10,\n",
       "       1.99013755e-10, 1.99013755e-10, 1.99013755e-10, 1.99013755e-10,\n",
       "       1.93261010e-10, 1.88657821e-10, 1.88657821e-10, 9.17463663e-11,\n",
       "       1.86321898e-10, 1.78202426e-10, 1.78202426e-10, 1.67859906e-10,\n",
       "       1.42200943e-10, 8.97997009e-11, 1.76278950e-10, 1.57839538e-10,\n",
       "       1.57839538e-10, 1.57839538e-10, 1.72127939e-10, 1.72127939e-10,\n",
       "       1.35439213e-10, 1.48330642e-10, 1.29721320e-10, 1.29721320e-10,\n",
       "       1.67950650e-10, 1.39493048e-10, 1.25031587e-10, 1.63451209e-10,\n",
       "       1.31452950e-10, 1.31452950e-10, 1.58474506e-10, 1.58474506e-10,\n",
       "       1.58474506e-10, 1.18100762e-10, 1.18100762e-10, 1.18100762e-10,\n",
       "       1.18100762e-10, 1.47050157e-10, 1.03004445e-10, 1.03004445e-10,\n",
       "       1.03004445e-10, 1.01517103e-10, 1.01517103e-10, 1.17355550e-10,\n",
       "       1.17355550e-10, 1.15612633e-10, 1.00827447e-10, 1.10046070e-10,\n",
       "       1.20438667e-10, 1.01508178e-10, 1.02691755e-10, 1.04303423e-10,\n",
       "       1.06238194e-10, 1.06238194e-10, 1.08389380e-10, 1.08389380e-10,\n",
       "       1.10649889e-10, 3.00074235e-10, 2.44443146e-10, 2.15895129e-10,\n",
       "       1.59967806e-10, 9.77013856e-11, 4.19950900e-10, 1.58884128e-10,\n",
       "       2.22234015e-10, 1.08956826e-10, 3.49034001e-10, 2.35572184e-10,\n",
       "       1.91819145e-10, 1.91819145e-10, 3.14116347e-10, 2.69167232e-10,\n",
       "       1.00768103e-10, 3.39039143e-10, 3.24922110e-10, 2.16201316e-10,\n",
       "       2.94361578e-10, 2.67282553e-10, 1.11162129e-10, 5.40357763e-10,\n",
       "       2.99481931e-10, 2.99481931e-10, 1.94567152e-10, 1.77184158e-10,\n",
       "       1.69442834e-10, 2.86635534e-10, 1.02833520e-10, 1.83115828e-10,\n",
       "       1.14044127e-10, 2.91257821e-10, 2.79675675e-10, 2.79675675e-10,\n",
       "       2.79675675e-10, 1.33923265e-10, 1.76481890e-10, 9.63408675e-11,\n",
       "       1.13583555e-10, 1.10181733e-10, 1.62537623e-10, 2.80970611e-10,\n",
       "       2.99562590e-10, 1.90208513e-10, 1.87420557e-10, 3.13185728e-10,\n",
       "       1.81651513e-10, 1.81651513e-10, 3.10620459e-10, 2.09557165e-10,\n",
       "       1.90766071e-10, 1.03613376e-10, 1.23361560e-10, 2.84159147e-10,\n",
       "       1.16053620e-10, 3.46107286e-10, 3.25446257e-10, 2.73760580e-10,\n",
       "       1.83403620e-10, 2.93372206e-10, 2.93372206e-10, 3.17550519e-10,\n",
       "       3.22547614e-10, 1.66639041e-10, 2.85705645e-10, 1.96783311e-10,\n",
       "       2.15283180e-10, 1.32030699e-10, 3.83117187e-10, 2.32118979e-10,\n",
       "       3.62651413e-10, 1.33787592e-10, 3.07815218e-10, 3.05968248e-10,\n",
       "       2.79177184e-10, 2.18480663e-10, 1.52854273e-10, 8.41273035e-11,\n",
       "       3.78227552e-10, 3.11929133e-10, 2.69726130e-10, 3.18270806e-10,\n",
       "       3.24997869e-10, 3.02341956e-10, 1.39127919e-10, 1.13667552e-10,\n",
       "       1.66201577e-10, 6.40449393e-10, 2.10544289e-10, 2.13222566e-10,\n",
       "       1.05568723e-10, 3.68943160e-10, 1.78113007e-10, 3.16545312e-10,\n",
       "       3.16545312e-10, 2.79085824e-10, 4.03917975e-10, 2.87520923e-10,\n",
       "       2.81270261e-10, 4.55753334e-10, 4.14101294e-10, 3.80356159e-10,\n",
       "       3.12492970e-10, 2.41732886e-10, 3.25823275e-10, 1.64740751e-10,\n",
       "       1.54951380e-10, 2.48523415e-10, 3.83918934e-10, 5.29639526e-10,\n",
       "       3.90358031e-10, 5.04595799e-10, 3.66078839e-10, 3.66078839e-10,\n",
       "       2.64171207e-10, 3.43825123e-10, 8.45923594e-10, 4.34714533e-10,\n",
       "       2.59653761e-10, 2.43748984e-10, 1.80094617e-10, 5.11700082e-10,\n",
       "       3.33419368e-10, 4.28058803e-10, 3.91343890e-10, 2.64990159e-10,\n",
       "       3.44962642e-10, 1.67170161e-10, 2.44437245e-10, 1.22012746e-10,\n",
       "       4.78406680e-10, 4.36521209e-10, 1.20476936e-10, 1.04201534e-10,\n",
       "       6.86185349e-10, 4.19504082e-10, 2.71544521e-10, 1.99450230e-10,\n",
       "       6.25150198e-10, 5.53802834e-10, 4.04937436e-10, 2.75507351e-10,\n",
       "       5.72632696e-10, 3.81067362e-10, 3.81067362e-10, 3.81067362e-10,\n",
       "       4.03019412e-10, 5.26616467e-10, 4.26353552e-10, 2.39051904e-10,\n",
       "       1.62215350e-10, 3.68320642e-10, 3.87050527e-10, 1.77057774e-10,\n",
       "       4.50603699e-10, 3.62417114e-10, 2.48741889e-10, 4.07446607e-10,\n",
       "       2.81374476e-10, 2.23751023e-10, 2.07394642e-10, 3.81265253e-10,\n",
       "       1.06616037e-10, 2.99989493e-10, 4.92765386e-10, 4.70416497e-10,\n",
       "       4.03317729e-10, 3.46604364e-10, 3.10750924e-10, 2.96743467e-10,\n",
       "       1.65854584e-10, 4.40238985e-10, 5.91287539e-10, 5.91287539e-10,\n",
       "       3.75513801e-10, 5.42546423e-10, 3.08229604e-10, 2.47970954e-10,\n",
       "       2.15045072e-10, 6.02769385e-10, 4.45357112e-10, 7.90361951e-10,\n",
       "       4.16622996e-10, 3.89477912e-10, 3.55029567e-10, 7.41053468e-10,\n",
       "       3.99810702e-10, 6.11861273e-10, 2.36344995e-10, 2.28489928e-10,\n",
       "       5.16890206e-10, 6.97233788e-10, 6.33819790e-10, 3.58553521e-10,\n",
       "       3.12472108e-10, 4.60269851e-10, 3.33793351e-10, 2.27468429e-10,\n",
       "       8.15530125e-11, 5.31314864e-10, 5.31314864e-10, 4.15116909e-10,\n",
       "       1.79063685e-10, 1.54442207e-10, 2.84289479e-10, 6.21830199e-10,\n",
       "       3.68875748e-10, 3.87702145e-10, 3.53033158e-10, 1.61831404e-10,\n",
       "       4.57837235e-10, 6.45110858e-10, 4.80785123e-10, 2.48918671e-10,\n",
       "       8.06836411e-10, 4.61432459e-10, 3.32863777e-10, 2.65879636e-10,\n",
       "       3.42259278e-10, 2.99792254e-10, 5.47887378e-10, 2.39935117e-10,\n",
       "       4.36322683e-10, 2.47986729e-10, 4.07225240e-10, 2.49691378e-10,\n",
       "       2.49691378e-10, 5.60915170e-10, 5.06549512e-10, 8.44063647e-10,\n",
       "       5.78433356e-10, 3.46268167e-10, 2.61193771e-10, 2.45391276e-10,\n",
       "       6.75780994e-10, 8.10401196e-11, 6.81667707e-10, 4.70633952e-10,\n",
       "       4.99116700e-10, 1.87182401e-10, 4.65929481e-10, 7.38867217e-10,\n",
       "       6.43113749e-10, 2.50537499e-10, 5.86095423e-10, 4.16792247e-10,\n",
       "       2.08529264e-10, 4.28354366e-10, 2.68014205e-10, 2.60617604e-10,\n",
       "       4.84683397e-10, 4.40205293e-10, 2.48895215e-10, 2.19799128e-10,\n",
       "       2.11100094e-10, 1.13976343e-09, 6.99349791e-10, 3.85852562e-10,\n",
       "       9.82271792e-10, 5.12117209e-10, 5.26762088e-10, 3.28846647e-10,\n",
       "       3.24812596e-10, 5.84712844e-10, 1.53704948e-09, 2.75227018e-10,\n",
       "       4.05087200e-10, 8.07397307e-09, 7.53759645e-10, 2.37176389e-10,\n",
       "       4.97166119e-10, 3.19627915e-10, 1.74426623e-10, 5.66373383e-10,\n",
       "       2.72975166e-10, 3.53800714e-10, 2.67846644e-10, 2.51506431e-10,\n",
       "       7.76262844e-10, 3.29217019e-09, 9.07102754e-10, 4.89880437e-10,\n",
       "       1.74282377e-10, 5.57364017e-10, 3.05273211e-10, 8.17376853e-09,\n",
       "       5.92804794e-10, 2.37547786e-09, 2.56680230e-10, 8.63170058e-10,\n",
       "       5.82946737e-10, 2.65841779e-10, 2.27925295e-10, 2.53914008e-10,\n",
       "       6.27280086e-10, 6.52099479e-10, 3.67107702e-09, 6.78495900e-10,\n",
       "       6.91913253e-10, 2.97983033e-10, 2.61342372e-10, 1.41390213e-09,\n",
       "       1.17726902e-09, 9.55695300e-10, 6.02526628e-10, 3.02626731e-10,\n",
       "       8.96183307e-10, 9.90708593e-10, 1.43769651e-10, 1.10467005e-10,\n",
       "       4.39031525e-10, 1.17794756e-09, 9.99999993e-01, 4.13061847e-10,\n",
       "       9.59239550e-10, 2.21628747e-09, 1.56469522e-09, 4.17565923e-10,\n",
       "       5.45485973e-10, 2.15740206e-10, 1.61549265e-09, 3.68956144e-10,\n",
       "       8.63813908e-10, 7.37642686e-10, 1.10627035e-09, 4.90219841e-10,\n",
       "       2.23997282e-09, 4.87113556e-09, 3.38914078e-09, 1.68859291e-10,\n",
       "       1.11827481e-09, 7.24542204e-10, 9.99999995e-01, 6.59794444e-10,\n",
       "       6.74226907e-10, 5.84059030e-10, 2.44869961e-10, 1.79173079e-10,\n",
       "       4.68606721e-10, 3.06854137e-10, 3.99539832e-10, 1.66532187e-09,\n",
       "       3.32236101e-10, 9.99999997e-01, 9.88112330e-10, 3.59008223e-10,\n",
       "       8.66133419e-10, 3.10728326e-09, 5.50930848e-10, 8.25005555e-10,\n",
       "       4.55955081e-10, 6.93541263e-10, 7.17721557e-10, 1.76173685e-10,\n",
       "       2.80753815e-10, 1.00000000e+00, 1.05113078e-09, 5.00978122e-10,\n",
       "       1.89384234e-10, 5.94961192e-10, 4.91228083e-01, 2.57894368e-10,\n",
       "       1.71464939e-10, 1.29171564e-09, 1.30773386e-08, 9.99999999e-01,\n",
       "       8.11661467e-10, 1.82771936e-09, 1.00000000e+00, 1.00000000e+00,\n",
       "       8.72812658e-10, 9.99999999e-01, 1.00000000e+00])"
      ]
     },
     "execution_count": 13,
     "metadata": {},
     "output_type": "execute_result"
    }
   ],
   "source": [
    "solution.x[solution.x > 0]"
   ]
  },
  {
   "cell_type": "markdown",
   "metadata": {},
   "source": [
    "# Integer Programming"
   ]
  },
  {
   "cell_type": "code",
   "execution_count": 14,
   "metadata": {
    "collapsed": true
   },
   "outputs": [],
   "source": [
    "from pulp import *"
   ]
  },
  {
   "cell_type": "code",
   "execution_count": 17,
   "metadata": {
    "collapsed": true
   },
   "outputs": [],
   "source": [
    "player = [str(i) for i in range(data.shape[0])]\n",
    "point = {str(i): data['Points'][i] for i in range(data.shape[0])} \n",
    "cost = {str(i): data['Cost'][i] for i in range(data.shape[0])}\n",
    "gk = {str(i): 1 if data['Position'][i] == 'GK' else 0 for i in range(data.shape[0])}\n",
    "defe = {str(i): 1 if data['Position'][i] == 'DEF' else 0 for i in range(data.shape[0])}\n",
    "mid = {str(i): 1 if data['Position'][i] == 'MID' else 0 for i in range(data.shape[0])}\n",
    "stri = {str(i): 1 if data['Position'][i] == 'STR' else 0 for i in range(data.shape[0])}\n",
    "xi = {str(i): 1 for i in range(data.shape[0])}"
   ]
  },
  {
   "cell_type": "code",
   "execution_count": 18,
   "metadata": {
    "collapsed": true
   },
   "outputs": [],
   "source": [
    "prob = LpProblem(\"Fantasy Football\",LpMaximize)\n",
    "player_vars = LpVariable.dicts(\"Players\",player,0,1,LpBinary)"
   ]
  },
  {
   "cell_type": "code",
   "execution_count": 19,
   "metadata": {
    "collapsed": true
   },
   "outputs": [],
   "source": [
    "# objective function\n",
    "prob += lpSum([point[i]*player_vars[i] for i in player]), \"Total Cost\""
   ]
  },
  {
   "cell_type": "code",
   "execution_count": 20,
   "metadata": {
    "collapsed": true
   },
   "outputs": [],
   "source": [
    "# constraint\n",
    "prob += lpSum([player_vars[i] for i in player]) == 11, \"Total 11 Players\"\n",
    "prob += lpSum([cost[i] * player_vars[i] for i in player]) <= 100.0, \"Total Cost\"\n",
    "prob += lpSum([gk[i] * player_vars[i] for i in player]) == 1, \"Only 1 GK\"\n",
    "prob += lpSum([defe[i] * player_vars[i] for i in player]) <= 4, \"Less than 4 DEF\"\n",
    "prob += lpSum([mid[i] * player_vars[i] for i in player]) <= 5, \"Less than 5 MID\"\n",
    "prob += lpSum([stri[i] * player_vars[i] for i in player]) <= 3, \"Less than 3 STR\""
   ]
  },
  {
   "cell_type": "code",
   "execution_count": 21,
   "metadata": {
    "collapsed": true
   },
   "outputs": [
    {
     "name": "stdout",
     "output_type": "stream",
     "text": [
      "Welcome to the CBC MILP Solver \n",
      "Version: 2.10.8 \n",
      "Build Date: May  6 2022 \n",
      "\n",
      "command line - cbc /var/folders/xx/ndggzzd56zdfznymtxfg5q5w0000gn/T/f75b80a9902147eeabed7ce80cc52c0a-pulp.mps max timeMode elapsed branch printingOptions all solution /var/folders/xx/ndggzzd56zdfznymtxfg5q5w0000gn/T/f75b80a9902147eeabed7ce80cc52c0a-pulp.sol (default strategy 1)\n",
      "At line 2 NAME          MODEL\n",
      "At line 3 ROWS\n",
      "At line 11 COLUMNS\n",
      "At line 3001 RHS\n",
      "At line 3008 BOUNDS\n",
      "At line 3532 ENDATA\n",
      "Problem MODEL has 6 rows, 523 columns and 1569 elements\n",
      "Coin0008I MODEL read with 0 errors\n",
      "Option for timeMode changed from cpu to elapsed\n",
      "Continuous objective value is 2116.13 - 0.00 seconds\n",
      "Cgl0004I processed model has 6 rows, 431 columns (431 integer (384 of which binary)) and 1293 elements\n",
      "Cutoff increment increased from 1e-05 to 0.9999\n",
      "Cbc0038I Initial state - 2 integers unsatisfied sum - 0.512821\n",
      "Cbc0038I Pass   1: suminf.    0.00000 (0) obj. -2081 iterations 4\n",
      "Cbc0038I Solution found of -2081\n",
      "Cbc0038I Cleaned solution of -2081\n",
      "Cbc0038I Before mini branch and bound, 429 integers at bound fixed and 0 continuous\n",
      "Cbc0038I Full problem 6 rows 431 columns, reduced to 0 rows 0 columns\n",
      "Cbc0038I Mini branch and bound improved solution from -2081 to -2081 (0.01 seconds)\n",
      "Cbc0038I Round again with cutoff of -2085.41\n",
      "Cbc0038I Reduced cost fixing fixed 358 variables on major pass 2\n",
      "Cbc0038I Pass   2: suminf.    0.03152 (2) obj. -2085.41 iterations 3\n",
      "Cbc0038I Pass   3: suminf.    0.22727 (2) obj. -2112.82 iterations 2\n",
      "Cbc0038I Pass   4: suminf.    0.71473 (3) obj. -2085.41 iterations 5\n",
      "Cbc0038I Pass   5: suminf.    0.71473 (3) obj. -2085.41 iterations 0\n",
      "Cbc0038I Pass   6: suminf.    0.95082 (2) obj. -2103.9 iterations 2\n",
      "Cbc0038I Pass   7: suminf.    0.80205 (3) obj. -2085.41 iterations 4\n",
      "Cbc0038I Pass   8: suminf.    0.95082 (2) obj. -2103.9 iterations 2\n",
      "Cbc0038I Pass   9: suminf.    1.00000 (3) obj. -2085.41 iterations 5\n",
      "Cbc0038I Pass  10: suminf.    1.00000 (3) obj. -2085.41 iterations 2\n",
      "Cbc0038I Pass  11: suminf.    0.41872 (3) obj. -2085.41 iterations 4\n",
      "Cbc0038I Pass  12: suminf.    0.21009 (2) obj. -2085.41 iterations 1\n",
      "Cbc0038I Pass  13: suminf.    0.25000 (2) obj. -2091 iterations 2\n",
      "Cbc0038I Pass  14: suminf.    0.80170 (4) obj. -2085.41 iterations 7\n",
      "Cbc0038I Pass  15: suminf.    0.39344 (2) obj. -2093.79 iterations 1\n",
      "Cbc0038I Pass  16: suminf.    0.75826 (3) obj. -2085.41 iterations 5\n",
      "Cbc0038I Pass  17: suminf.    0.42492 (3) obj. -2085.41 iterations 5\n",
      "Cbc0038I Pass  18: suminf.    0.42492 (3) obj. -2085.41 iterations 1\n",
      "Cbc0038I Pass  19: suminf.    0.55189 (3) obj. -2085.41 iterations 4\n",
      "Cbc0038I Pass  20: suminf.    0.43152 (2) obj. -2085.41 iterations 1\n",
      "Cbc0038I Pass  21: suminf.    0.45455 (2) obj. -2088.64 iterations 1\n",
      "Cbc0038I Pass  22: suminf.    0.49189 (4) obj. -2085.41 iterations 8\n",
      "Cbc0038I Pass  23: suminf.    0.15708 (3) obj. -2085.41 iterations 5\n",
      "Cbc0038I Pass  24: suminf.    0.39646 (3) obj. -2085.41 iterations 4\n",
      "Cbc0038I Pass  25: suminf.    1.00000 (3) obj. -2085.41 iterations 5\n",
      "Cbc0038I Pass  26: suminf.    1.00000 (3) obj. -2085.41 iterations 2\n",
      "Cbc0038I Pass  27: suminf.    0.91667 (3) obj. -2085.41 iterations 3\n",
      "Cbc0038I Pass  28: suminf.    0.03152 (2) obj. -2085.41 iterations 1\n",
      "Cbc0038I Pass  29: suminf.    0.18182 (2) obj. -2106.45 iterations 2\n",
      "Cbc0038I Pass  30: suminf.    1.15904 (4) obj. -2085.41 iterations 3\n",
      "Cbc0038I Pass  31: suminf.    1.15904 (4) obj. -2085.41 iterations 1\n",
      "Cbc0038I Rounding solution of -2086 is better than previous of -2081\n",
      "\n",
      "Cbc0038I Before mini branch and bound, 413 integers at bound fixed and 0 continuous\n",
      "Cbc0038I Full problem 6 rows 431 columns, reduced to 4 rows 18 columns\n",
      "Cbc0038I Mini branch and bound improved solution from -2086 to -2095 (0.01 seconds)\n",
      "Cbc0038I Round again with cutoff of -2100.03\n",
      "Cbc0038I Reduced cost fixing fixed 405 variables on major pass 3\n",
      "Cbc0038I Pass  31: suminf.    0.24870 (2) obj. -2100.03 iterations 1\n",
      "Cbc0038I Pass  32: suminf.    0.43478 (2) obj. -2114.26 iterations 3\n",
      "Cbc0038I Pass  33: suminf.    1.76854 (4) obj. -2100.03 iterations 5\n",
      "Cbc0038I Pass  34: suminf.    0.58824 (2) obj. -2111.88 iterations 3\n",
      "Cbc0038I Pass  35: suminf.    0.77859 (4) obj. -2100.03 iterations 2\n",
      "Cbc0038I Pass  36: suminf.    0.70588 (2) obj. -2101.94 iterations 1\n",
      "Cbc0038I Pass  37: suminf.    0.86308 (2) obj. -2100.03 iterations 5\n",
      "Cbc0038I Pass  38: suminf.    0.95652 (2) obj. -2107.17 iterations 3\n",
      "Cbc0038I Pass  39: suminf.    0.37500 (2) obj. -2104.06 iterations 6\n",
      "Cbc0038I Pass  40: suminf.    0.20948 (2) obj. -2100.03 iterations 5\n",
      "Cbc0038I Pass  41: suminf.    0.26087 (2) obj. -2103.96 iterations 4\n",
      "Cbc0038I Pass  42: suminf.    1.09762 (4) obj. -2100.03 iterations 3\n",
      "Cbc0038I Pass  43: suminf.    0.64706 (2) obj. -2100.91 iterations 5\n",
      "Cbc0038I Pass  44: suminf.    0.45785 (2) obj. -2100.03 iterations 4\n",
      "Cbc0038I Pass  45: suminf.    0.47826 (2) obj. -2101.59 iterations 4\n",
      "Cbc0038I Pass  46: suminf.    1.18703 (4) obj. -2100.03 iterations 4\n",
      "Cbc0038I Pass  47: suminf.    1.18703 (4) obj. -2100.03 iterations 1\n",
      "Cbc0038I Pass  48: suminf.    0.24870 (2) obj. -2100.03 iterations 4\n",
      "Cbc0038I Pass  49: suminf.    0.43478 (2) obj. -2114.26 iterations 4\n",
      "Cbc0038I Pass  50: suminf.    1.34108 (4) obj. -2100.03 iterations 7\n",
      "Cbc0038I Pass  51: suminf.    0.62500 (2) obj. -2107.44 iterations 2\n",
      "Cbc0038I Pass  52: suminf.    0.34020 (2) obj. -2100.03 iterations 5\n",
      "Cbc0038I Pass  53: suminf.    0.43478 (2) obj. -2107.26 iterations 4\n",
      "Cbc0038I Pass  54: suminf.    1.44602 (4) obj. -2100.03 iterations 9\n",
      "Cbc0038I Pass  55: suminf.    1.44602 (4) obj. -2100.03 iterations 1\n",
      "Cbc0038I Pass  56: suminf.    0.86308 (2) obj. -2100.03 iterations 4\n",
      "Cbc0038I Pass  57: suminf.    0.95652 (2) obj. -2107.17 iterations 4\n",
      "Cbc0038I Pass  58: suminf.    0.87179 (2) obj. -2111.28 iterations 1\n",
      "Cbc0038I Pass  59: suminf.    0.87179 (2) obj. -2111.28 iterations 0\n",
      "Cbc0038I Pass  60: suminf.    0.90474 (3) obj. -2100.03 iterations 7\n",
      "Cbc0038I No solution found this major pass\n",
      "Cbc0038I Before mini branch and bound, 412 integers at bound fixed and 0 continuous\n",
      "Cbc0038I Full problem 6 rows 431 columns, reduced to 4 rows 18 columns\n",
      "Cbc0038I Mini branch and bound did not improve solution (0.02 seconds)\n",
      "Cbc0038I After 0.02 seconds - Feasibility pump exiting with objective of -2095 - took 0.02 seconds\n",
      "Cbc0012I Integer solution of -2095 found by feasibility pump after 0 iterations and 0 nodes (0.02 seconds)\n",
      "Cbc0038I Full problem 6 rows 431 columns, reduced to 4 rows 7 columns\n",
      "Cbc0031I 8 added rows had average density of 21\n",
      "Cbc0013I At root node, 8 cuts changed objective from -2116.1282 to -2099.5096 in 9 passes\n",
      "Cbc0014I Cut generator 0 (Probing) - 0 row cuts average 0.0 elements, 0 column cuts (0 active)  in 0.001 seconds - new frequency is -100\n",
      "Cbc0014I Cut generator 1 (Gomory) - 0 row cuts average 0.0 elements, 0 column cuts (0 active)  in 0.001 seconds - new frequency is -100\n",
      "Cbc0014I Cut generator 2 (Knapsack) - 0 row cuts average 0.0 elements, 0 column cuts (0 active)  in 0.006 seconds - new frequency is -100\n",
      "Cbc0014I Cut generator 3 (Clique) - 0 row cuts average 0.0 elements, 0 column cuts (0 active)  in 0.000 seconds - new frequency is -100\n",
      "Cbc0014I Cut generator 4 (MixedIntegerRounding2) - 21 row cuts average 20.0 elements, 0 column cuts (0 active)  in 0.001 seconds - new frequency is 1\n",
      "Cbc0014I Cut generator 5 (FlowCover) - 0 row cuts average 0.0 elements, 0 column cuts (0 active)  in 0.001 seconds - new frequency is -100\n",
      "Cbc0014I Cut generator 6 (TwoMirCuts) - 63 row cuts average 21.0 elements, 0 column cuts (0 active)  in 0.003 seconds - new frequency is -100\n",
      "Cbc0010I After 0 nodes, 1 on tree, -2095 best solution, best possible -2099.4347 (0.03 seconds)\n",
      "Cbc0001I Search completed - best objective -2095, took 149 iterations and 4 nodes (0.03 seconds)\n",
      "Cbc0032I Strong branching done 46 times (225 iterations), fathomed 1 nodes and fixed 3 variables\n",
      "Cbc0035I Maximum depth 1, 386 variables fixed on reduced cost\n",
      "Cuts at root node changed objective from -2116.13 to -2099.43\n",
      "Probing was tried 9 times and created 0 cuts of which 0 were active after adding rounds of cuts (0.001 seconds)\n",
      "Gomory was tried 9 times and created 0 cuts of which 0 were active after adding rounds of cuts (0.001 seconds)\n",
      "Knapsack was tried 9 times and created 0 cuts of which 0 were active after adding rounds of cuts (0.006 seconds)\n",
      "Clique was tried 9 times and created 0 cuts of which 0 were active after adding rounds of cuts (0.000 seconds)\n",
      "MixedIntegerRounding2 was tried 19 times and created 51 cuts of which 0 were active after adding rounds of cuts (0.002 seconds)\n",
      "FlowCover was tried 9 times and created 0 cuts of which 0 were active after adding rounds of cuts (0.001 seconds)\n",
      "TwoMirCuts was tried 9 times and created 63 cuts of which 0 were active after adding rounds of cuts (0.003 seconds)\n",
      "ZeroHalf was tried 1 times and created 0 cuts of which 0 were active after adding rounds of cuts (0.000 seconds)\n",
      "\n",
      "Result - Optimal solution found\n",
      "\n",
      "Objective value:                2095.00000000\n",
      "Enumerated nodes:               4\n",
      "Total iterations:               149\n",
      "Time (CPU seconds):             0.05\n",
      "Time (Wallclock seconds):       0.03\n",
      "\n",
      "Option for printingOptions changed from normal to all\n",
      "Total time (CPU seconds):       0.05   (Wallclock seconds):       0.03\n",
      "\n"
     ]
    }
   ],
   "source": [
    "# solve\n",
    "status = prob.solve()"
   ]
  },
  {
   "cell_type": "code",
   "execution_count": 22,
   "metadata": {},
   "outputs": [
    {
     "name": "stdout",
     "output_type": "stream",
     "text": [
      "Status: Optimal\n"
     ]
    }
   ],
   "source": [
    "# The status of the solution is printed to the screen\n",
    "print(\"Status:\", LpStatus[prob.status])"
   ]
  },
  {
   "cell_type": "code",
   "execution_count": 25,
   "metadata": {
    "collapsed": true
   },
   "outputs": [],
   "source": [
    "selection = {}\n",
    "for v in prob.variables():\n",
    "    index = int(v.name.split(\"_\")[1])\n",
    "    selection[index] = v.varValue\n",
    "    # print(v.name, \"=\", v.varValue)"
   ]
  },
  {
   "cell_type": "code",
   "execution_count": 26,
   "metadata": {
    "collapsed": true
   },
   "outputs": [],
   "source": [
    "data['integer_programming'] = 0.0\n",
    "for i in selection:\n",
    "    data.loc[i, 'integer_programming'] = selection[i]"
   ]
  },
  {
   "cell_type": "code",
   "execution_count": 27,
   "metadata": {},
   "outputs": [
    {
     "name": "stdout",
     "output_type": "stream",
     "text": [
      "Total points:2095.0, cost:£100.00000000000001, and with players:11\n"
     ]
    }
   ],
   "source": [
    "XI = data[data['integer_programming'] == 1.0]\n",
    "TOTAL_POINTS = XI['Points'].sum()\n",
    "TOTAL_COST = XI['Cost'].sum()\n",
    "TOTAL_PLAYERS = XI.shape[0]\n",
    "print(\"Total points:{}, cost:£{}, and with players:{}\".format(TOTAL_POINTS, TOTAL_COST, TOTAL_PLAYERS))"
   ]
  },
  {
   "cell_type": "code",
   "execution_count": 28,
   "metadata": {},
   "outputs": [
    {
     "data": {
      "text/plain": [
       "<seaborn.axisgrid.FacetGrid at 0x17af5f1c0>"
      ]
     },
     "execution_count": 28,
     "metadata": {},
     "output_type": "execute_result"
    },
    {
     "data": {
      "image/png": "[encoded data removed]",
      "text/plain": [
       "<Figure size 761.35x360 with 1 Axes>"
      ]
     },
     "metadata": {
      "needs_background": "light"
     },
     "output_type": "display_data"
    }
   ],
   "source": [
    "sns.relplot(x=\"Cost\", y=\"Points\", \n",
    "            hue=\"Position\", size='integer_programming',\n",
    "            size_order=[1,0],\n",
    "            sizes=(40, 400), alpha=.5, \n",
    "            palette=\"muted\", height=5, aspect=1.75,\n",
    "            data=data)"
   ]
  },
  {
   "cell_type": "code",
   "execution_count": 29,
   "metadata": {},
   "outputs": [
    {
     "data": {
      "text/html": [
       "<div>\n",
       "<style scoped>\n",
       "    .dataframe tbody tr th:only-of-type {\n",
       "        vertical-align: middle;\n",
       "    }\n",
       "\n",
       "    .dataframe tbody tr th {\n",
       "        vertical-align: top;\n",
       "    }\n",
       "\n",
       "    .dataframe thead th {\n",
       "        text-align: right;\n",
       "    }\n",
       "</style>\n",
       "<table border=\"1\" class=\"dataframe\">\n",
       "  <thead>\n",
       "    <tr style=\"text-align: right;\">\n",
       "      <th></th>\n",
       "      <th>Player</th>\n",
       "      <th>Position</th>\n",
       "      <th>Points</th>\n",
       "      <th>Cost</th>\n",
       "    </tr>\n",
       "  </thead>\n",
       "  <tbody>\n",
       "    <tr>\n",
       "      <th>0</th>\n",
       "      <td>EBANKS-LANDELL, E</td>\n",
       "      <td>DEF</td>\n",
       "      <td>0.0</td>\n",
       "      <td>4.2</td>\n",
       "    </tr>\n",
       "    <tr>\n",
       "      <th>1</th>\n",
       "      <td>WARD, S</td>\n",
       "      <td>DEF</td>\n",
       "      <td>107.0</td>\n",
       "      <td>7.4</td>\n",
       "    </tr>\n",
       "    <tr>\n",
       "      <th>2</th>\n",
       "      <td>AZPILICUETA, C</td>\n",
       "      <td>DEF</td>\n",
       "      <td>240.0</td>\n",
       "      <td>10.3</td>\n",
       "    </tr>\n",
       "    <tr>\n",
       "      <th>3</th>\n",
       "      <td>OTAMENDI, N</td>\n",
       "      <td>DEF</td>\n",
       "      <td>244.0</td>\n",
       "      <td>10.2</td>\n",
       "    </tr>\n",
       "    <tr>\n",
       "      <th>4</th>\n",
       "      <td>RYAN, M</td>\n",
       "      <td>GK</td>\n",
       "      <td>172.0</td>\n",
       "      <td>6.5</td>\n",
       "    </tr>\n",
       "    <tr>\n",
       "      <th>5</th>\n",
       "      <td>RICHARLISON</td>\n",
       "      <td>MID</td>\n",
       "      <td>140.0</td>\n",
       "      <td>8.6</td>\n",
       "    </tr>\n",
       "    <tr>\n",
       "      <th>6</th>\n",
       "      <td>MOOY, A</td>\n",
       "      <td>MID</td>\n",
       "      <td>149.0</td>\n",
       "      <td>8.7</td>\n",
       "    </tr>\n",
       "    <tr>\n",
       "      <th>7</th>\n",
       "      <td>DOUCOURE, A</td>\n",
       "      <td>MID</td>\n",
       "      <td>156.0</td>\n",
       "      <td>8.7</td>\n",
       "    </tr>\n",
       "    <tr>\n",
       "      <th>8</th>\n",
       "      <td>SILVA, D</td>\n",
       "      <td>MID</td>\n",
       "      <td>228.0</td>\n",
       "      <td>10.5</td>\n",
       "    </tr>\n",
       "    <tr>\n",
       "      <th>9</th>\n",
       "      <td>DE BRUYNE, K</td>\n",
       "      <td>MID</td>\n",
       "      <td>281.0</td>\n",
       "      <td>12.0</td>\n",
       "    </tr>\n",
       "    <tr>\n",
       "      <th>10</th>\n",
       "      <td>SALAH, M</td>\n",
       "      <td>STR</td>\n",
       "      <td>378.0</td>\n",
       "      <td>12.9</td>\n",
       "    </tr>\n",
       "  </tbody>\n",
       "</table>\n",
       "</div>"
      ],
      "text/plain": [
       "               Player Position  Points  Cost\n",
       "0   EBANKS-LANDELL, E      DEF     0.0   4.2\n",
       "1             WARD, S      DEF   107.0   7.4\n",
       "2      AZPILICUETA, C      DEF   240.0  10.3\n",
       "3         OTAMENDI, N      DEF   244.0  10.2\n",
       "4             RYAN, M       GK   172.0   6.5\n",
       "5         RICHARLISON      MID   140.0   8.6\n",
       "6             MOOY, A      MID   149.0   8.7\n",
       "7         DOUCOURE, A      MID   156.0   8.7\n",
       "8            SILVA, D      MID   228.0  10.5\n",
       "9        DE BRUYNE, K      MID   281.0  12.0\n",
       "10           SALAH, M      STR   378.0  12.9"
      ]
     },
     "execution_count": 29,
     "metadata": {},
     "output_type": "execute_result"
    }
   ],
   "source": [
    "(XI[['Player','Position','Points','Cost']]\n",
    " .sort_values(['Position'])\n",
    " .reset_index(drop=True))"
   ]
  },
  {
   "cell_type": "code",
   "execution_count": 26,
   "metadata": {},
   "outputs": [
    {
     "data": {
      "text/plain": [
       "<seaborn.axisgrid.FacetGrid at 0x10f27c4e0>"
      ]
     },
     "execution_count": 26,
     "metadata": {},
     "output_type": "execute_result"
    },
    {
     "data": {
      "image/png": "[encoded data removed]",
      "text/plain": [
       "<Figure size 864x216 with 4 Axes>"
      ]
     },
     "metadata": {},
     "output_type": "display_data"
    }
   ],
   "source": [
    "sns.lmplot(x=\"Cost\", y=\"Points\", col=\"Position\", hue=\"Position\", \n",
    "           data=data[data.Points != 0],\n",
    "           col_wrap=4, ci=None, palette=\"muted\", height=3,\n",
    "           hue_order=['DEF','GK','MID', 'STR'],\n",
    "           col_order=['DEF','GK','MID', 'STR'],\n",
    "           scatter_kws={\"s\": 20, \"alpha\": 0.5})"
   ]
  },
  {
   "cell_type": "code",
   "execution_count": 27,
   "metadata": {
    "scrolled": true
   },
   "outputs": [
    {
     "name": "stdout",
     "output_type": "stream",
     "text": [
      "For DEF, y = 36.483x + -203.343\n",
      "For GK, y = 73.302x + -402.909\n",
      "For MID, y = 37.443x + -224.493\n",
      "For STR, y = 34.876x + -242.834\n"
     ]
    }
   ],
   "source": [
    "slope_inter = {}\n",
    "for pos in ['DEF','GK','MID', 'STR']:\n",
    "    pos_data = data[(data.Position == pos) & (data.Points > 0)].reset_index(drop=True)\n",
    "    output = linregress(pos_data['Cost'],pos_data['Points'])\n",
    "    print(\"For {}, y = {:0.3f}x + {:0.3f}\".format(pos, output.slope, output.intercept))\n",
    "    slope_inter[pos] = {\"slope\":output.slope, \"intercept\":output.intercept}"
   ]
  },
  {
   "cell_type": "markdown",
   "metadata": {},
   "source": [
    "# Imputation for New EPL Players\n",
    " - No change in selection"
   ]
  },
  {
   "cell_type": "code",
   "execution_count": 28,
   "metadata": {
    "collapsed": true
   },
   "outputs": [],
   "source": [
    "def get_adj_points(x, slope_intercept):\n",
    "    if x.Points > 0:\n",
    "        return x.Points\n",
    "    else:\n",
    "        mb = slope_intercept[x.Position]\n",
    "        adj_points = mb['slope'] * x.Cost + mb['intercept']\n",
    "        if adj_points > 0:\n",
    "            return int(adj_points)\n",
    "        else:\n",
    "            return 0"
   ]
  },
  {
   "cell_type": "code",
   "execution_count": 29,
   "metadata": {
    "collapsed": true
   },
   "outputs": [],
   "source": [
    "data['AdjPoints'] = data[['Position','Points','Cost']].apply(lambda x: get_adj_points(x, slope_inter), axis=1)"
   ]
  },
  {
   "cell_type": "code",
   "execution_count": 30,
   "metadata": {
    "collapsed": true
   },
   "outputs": [],
   "source": [
    "adjpoint = {str(i): data['AdjPoints'][i] for i in range(data.shape[0])} "
   ]
  },
  {
   "cell_type": "code",
   "execution_count": 31,
   "metadata": {},
   "outputs": [
    {
     "name": "stdout",
     "output_type": "stream",
     "text": [
      "Total points:2095.0, cost:£100.00000000000001, and with players:11\n"
     ]
    }
   ],
   "source": [
    "prob = LpProblem(\"Fantasy Football\",LpMaximize)\n",
    "player_vars = LpVariable.dicts(\"Players\",player,0,1,LpBinary)\n",
    "\n",
    "# objective function\n",
    "prob += lpSum([adjpoint[i]*player_vars[i] for i in player]), \"Total Cost\"\n",
    "\n",
    "# constraint\n",
    "prob += lpSum([player_vars[i] for i in player]) == 11, \"Total 11 Players\"\n",
    "prob += lpSum([cost[i] * player_vars[i] for i in player]) <= 100.0, \"Total Cost\"\n",
    "prob += lpSum([gk[i] * player_vars[i] for i in player]) == 1, \"Only 1 GK\"\n",
    "prob += lpSum([defe[i] * player_vars[i] for i in player]) <= 4, \"Less than 5 DEF\"\n",
    "prob += lpSum([mid[i] * player_vars[i] for i in player]) <= 5, \"Less than 5 MID\"\n",
    "prob += lpSum([stri[i] * player_vars[i] for i in player]) <= 3, \"Less than 3 STR\"\n",
    "\n",
    "# solve\n",
    "status = prob.solve()\n",
    "\n",
    "# selection\n",
    "selection = {}\n",
    "for v in prob.variables():\n",
    "    index = int(v.name.split(\"_\")[1])\n",
    "    selection[index] = v.varValue\n",
    "    \n",
    "data['Adj Selection'] = 0.0\n",
    "for i in selection:\n",
    "    data.loc[i, 'Adj Selection'] = selection[i]\n",
    "    \n",
    "XI = data[data['Adj Selection'] == 1.0]\n",
    "TOTAL_POINTS = XI['AdjPoints'].sum()\n",
    "TOTAL_COST = XI['Cost'].sum()\n",
    "TOTAL_PLAYERS = XI.shape[0]\n",
    "print(\"Total points:{}, cost:£{}, and with players:{}\".format(TOTAL_POINTS, TOTAL_COST, TOTAL_PLAYERS))"
   ]
  },
  {
   "cell_type": "code",
   "execution_count": 32,
   "metadata": {},
   "outputs": [
    {
     "data": {
      "text/html": [
       "<div>\n",
       "<style scoped>\n",
       "    .dataframe tbody tr th:only-of-type {\n",
       "        vertical-align: middle;\n",
       "    }\n",
       "\n",
       "    .dataframe tbody tr th {\n",
       "        vertical-align: top;\n",
       "    }\n",
       "\n",
       "    .dataframe thead th {\n",
       "        text-align: right;\n",
       "    }\n",
       "</style>\n",
       "<table border=\"1\" class=\"dataframe\">\n",
       "  <thead>\n",
       "    <tr style=\"text-align: right;\">\n",
       "      <th></th>\n",
       "      <th>Player</th>\n",
       "      <th>Position</th>\n",
       "      <th>Points</th>\n",
       "      <th>AdjPoints</th>\n",
       "      <th>Cost</th>\n",
       "    </tr>\n",
       "  </thead>\n",
       "  <tbody>\n",
       "    <tr>\n",
       "      <th>0</th>\n",
       "      <td>EBANKS-LANDELL, E</td>\n",
       "      <td>DEF</td>\n",
       "      <td>0.0</td>\n",
       "      <td>0.0</td>\n",
       "      <td>4.2</td>\n",
       "    </tr>\n",
       "    <tr>\n",
       "      <th>1</th>\n",
       "      <td>WARD, S</td>\n",
       "      <td>DEF</td>\n",
       "      <td>107.0</td>\n",
       "      <td>107.0</td>\n",
       "      <td>7.4</td>\n",
       "    </tr>\n",
       "    <tr>\n",
       "      <th>2</th>\n",
       "      <td>AZPILICUETA, C</td>\n",
       "      <td>DEF</td>\n",
       "      <td>240.0</td>\n",
       "      <td>240.0</td>\n",
       "      <td>10.3</td>\n",
       "    </tr>\n",
       "    <tr>\n",
       "      <th>3</th>\n",
       "      <td>OTAMENDI, N</td>\n",
       "      <td>DEF</td>\n",
       "      <td>244.0</td>\n",
       "      <td>244.0</td>\n",
       "      <td>10.2</td>\n",
       "    </tr>\n",
       "    <tr>\n",
       "      <th>4</th>\n",
       "      <td>RYAN, M</td>\n",
       "      <td>GK</td>\n",
       "      <td>172.0</td>\n",
       "      <td>172.0</td>\n",
       "      <td>6.5</td>\n",
       "    </tr>\n",
       "    <tr>\n",
       "      <th>5</th>\n",
       "      <td>RICHARLISON</td>\n",
       "      <td>MID</td>\n",
       "      <td>140.0</td>\n",
       "      <td>140.0</td>\n",
       "      <td>8.6</td>\n",
       "    </tr>\n",
       "    <tr>\n",
       "      <th>6</th>\n",
       "      <td>MOOY, A</td>\n",
       "      <td>MID</td>\n",
       "      <td>149.0</td>\n",
       "      <td>149.0</td>\n",
       "      <td>8.7</td>\n",
       "    </tr>\n",
       "    <tr>\n",
       "      <th>7</th>\n",
       "      <td>DOUCOURE, A</td>\n",
       "      <td>MID</td>\n",
       "      <td>156.0</td>\n",
       "      <td>156.0</td>\n",
       "      <td>8.7</td>\n",
       "    </tr>\n",
       "    <tr>\n",
       "      <th>8</th>\n",
       "      <td>SILVA, D</td>\n",
       "      <td>MID</td>\n",
       "      <td>228.0</td>\n",
       "      <td>228.0</td>\n",
       "      <td>10.5</td>\n",
       "    </tr>\n",
       "    <tr>\n",
       "      <th>9</th>\n",
       "      <td>DE BRUYNE, K</td>\n",
       "      <td>MID</td>\n",
       "      <td>281.0</td>\n",
       "      <td>281.0</td>\n",
       "      <td>12.0</td>\n",
       "    </tr>\n",
       "    <tr>\n",
       "      <th>10</th>\n",
       "      <td>SALAH, M</td>\n",
       "      <td>STR</td>\n",
       "      <td>378.0</td>\n",
       "      <td>378.0</td>\n",
       "      <td>12.9</td>\n",
       "    </tr>\n",
       "  </tbody>\n",
       "</table>\n",
       "</div>"
      ],
      "text/plain": [
       "               Player Position  Points  AdjPoints  Cost\n",
       "0   EBANKS-LANDELL, E      DEF     0.0        0.0   4.2\n",
       "1             WARD, S      DEF   107.0      107.0   7.4\n",
       "2      AZPILICUETA, C      DEF   240.0      240.0  10.3\n",
       "3         OTAMENDI, N      DEF   244.0      244.0  10.2\n",
       "4             RYAN, M       GK   172.0      172.0   6.5\n",
       "5         RICHARLISON      MID   140.0      140.0   8.6\n",
       "6             MOOY, A      MID   149.0      149.0   8.7\n",
       "7         DOUCOURE, A      MID   156.0      156.0   8.7\n",
       "8            SILVA, D      MID   228.0      228.0  10.5\n",
       "9        DE BRUYNE, K      MID   281.0      281.0  12.0\n",
       "10           SALAH, M      STR   378.0      378.0  12.9"
      ]
     },
     "execution_count": 32,
     "metadata": {},
     "output_type": "execute_result"
    }
   ],
   "source": [
    "(XI[['Player','Position','Points','AdjPoints','Cost']]\n",
    " .sort_values(['Position'])\n",
    " .reset_index(drop=True))"
   ]
  },
  {
   "cell_type": "code",
   "execution_count": null,
   "metadata": {
    "collapsed": true
   },
   "outputs": [],
   "source": []
  }
 ],
 "metadata": {
  "kernelspec": {
   "display_name": "Python 3.9.13 ('fantasy')",
   "language": "python",
   "name": "python3"
  },
  "language_info": {
   "codemirror_mode": {
    "name": "ipython",
    "version": 3
   },
   "file_extension": ".py",
   "mimetype": "text/x-python",
   "name": "python",
   "nbconvert_exporter": "python",
   "pygments_lexer": "ipython3",
   "version": "3.9.13"
  },
  "vscode": {
   "interpreter": {
    "hash": "19a20ae2088ac96f3ef3b7a2e5a89a70ef8e448903b9faf99b09635ff0846c99"
   }
  }
 },
 "nbformat": 4,
 "nbformat_minor": 2
}
